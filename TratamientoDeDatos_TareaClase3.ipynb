{
  "nbformat": 4,
  "nbformat_minor": 0,
  "metadata": {
    "colab": {
      "provenance": [],
      "authorship_tag": "ABX9TyPCATPdUNpooD/MYJ1W6wgM",
      "include_colab_link": true
    },
    "kernelspec": {
      "name": "python3",
      "display_name": "Python 3"
    },
    "language_info": {
      "name": "python"
    }
  },
  "cells": [
    {
      "cell_type": "markdown",
      "metadata": {
        "id": "view-in-github",
        "colab_type": "text"
      },
      "source": [
        "<a href=\"https://colab.research.google.com/github/dquinonez25/TratamientoDeDatos_Tarea_Clase3/blob/main/TratamientoDeDatos_TareaClase3.ipynb\" target=\"_parent\"><img src=\"https://colab.research.google.com/assets/colab-badge.svg\" alt=\"Open In Colab\"/></a>"
      ]
    },
    {
      "cell_type": "code",
      "execution_count": 29,
      "metadata": {
        "id": "IjrHIDzcK0t0"
      },
      "outputs": [],
      "source": [
        "import seaborn as sns\n",
        "import pandas as pd\n",
        "import matplotlib.pyplot as plt\n",
        "import plotly.express as px\n",
        "import plotly.graph_objects as go"
      ]
    },
    {
      "cell_type": "code",
      "source": [],
      "metadata": {
        "id": "Ll55VlLROhzR"
      },
      "execution_count": null,
      "outputs": []
    },
    {
      "cell_type": "code",
      "metadata": {
        "colab": {
          "base_uri": "https://localhost:8080/"
        },
        "id": "266e285a",
        "outputId": "ddb6bf57-d7b0-4fed-9ebb-920cb6b5cf2e"
      },
      "source": [
        "# Change the current directory to /content/\n",
        "%cd 'C:\\Users\\ADMIN\\Documents\\UIDE\\TRATAMIENTO DE DATOS\\CLASE 3\\DATASET\\archive'"
      ],
      "execution_count": 32,
      "outputs": [
        {
          "output_type": "stream",
          "name": "stdout",
          "text": [
            "[Errno 2] No such file or directory: 'C:\\\\Users\\\\ADMIN\\\\Documents\\\\UIDE\\\\TRATAMIENTO DE DATOS\\\\CLASE 3\\\\DATASET\\\\archive'\n",
            "/content\n"
          ]
        }
      ]
    },
    {
      "cell_type": "code",
      "source": [
        "%cd"
      ],
      "metadata": {
        "colab": {
          "base_uri": "https://localhost:8080/"
        },
        "id": "bhRualdDONLy",
        "outputId": "9c2f56f8-8653-4790-a14b-dac5760c80f0"
      },
      "execution_count": null,
      "outputs": [
        {
          "output_type": "stream",
          "name": "stdout",
          "text": [
            "[Errno 2] No such file or directory: 'C:\\\\Users\\\\ADMIN\\\\Documents\\\\UIDE\\\\TRATAMIENTO DE DATOS\\\\CLASE 3\\\\DATASET\\\\archive'\n",
            "/content\n"
          ]
        }
      ]
    }
  ]
}